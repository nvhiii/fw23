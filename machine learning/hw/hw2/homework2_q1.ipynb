{
  "nbformat": 4,
  "nbformat_minor": 0,
  "metadata": {
    "colab": {
      "provenance": []
    },
    "kernelspec": {
      "name": "python3",
      "display_name": "Python 3"
    },
    "language_info": {
      "name": "python"
    }
  },
  "cells": [
    {
      "cell_type": "markdown",
      "source": [],
      "metadata": {
        "id": "iUK7U1DqII3Q"
      }
    },
    {
      "cell_type": "code",
      "source": [
        "# Import all the necesary Libraries\n",
        "import pandas as pd\n",
        "import numpy as np\n",
        "import seaborn as sns\n",
        "import matplotlib.pyplot as plt\n",
        "import plotly.express as px\n",
        "from sklearn.svm import SVC\n",
        "from imblearn.over_sampling import SMOTE\n",
        "from sklearn.preprocessing import LabelEncoder\n",
        "from sklearn.model_selection import train_test_split,GridSearchCV\n",
        "from sklearn.ensemble import RandomForestClassifier, GradientBoostingClassifier,VotingClassifier\n",
        "from sklearn.metrics import accuracy_score,precision_score,recall_score,f1_score,ConfusionMatrixDisplay,classification_report"
      ],
      "metadata": {
        "id": "j0VmyESCVopm"
      },
      "execution_count": 2,
      "outputs": []
    },
    {
      "cell_type": "markdown",
      "source": [
        "Initial Analysis:\n",
        "1. Any missing values?\n",
        "\n",
        "  No\n",
        "\n",
        "2. Are there any categorical variables that should be one-hot encoded? What are the variables, and why is one-hot encoding appropriate for them?\n",
        "\n",
        "  Yes, the Education column values, the City column values, the Gender column, and the EverBenched column values. One-hot encoding is appropriate for these column values because each Column has a limited # of values, hence no significant increase in computational complexity, and so that the computer can understand the string values in each column in numeric form. This type of encoding also shows that these column values are not comparable in the notion \"one is greater than the other\"\n",
        "\n",
        "3. Are there any categorical variables that should be ordinal encoded, but are not currently encoded this way? What are the variables, and why is ordinal encoding appropriate for them?\n",
        "\n",
        "  Yes, there are a few categorical variables that should be ordinal encoded, but they are already encoded this way.\n",
        "\n",
        "4. Are there any continuous variables that should be scaled or standardized?\n",
        "\n",
        "  No\n"
      ],
      "metadata": {
        "id": "33kdc-btIMQG"
      }
    },
    {
      "cell_type": "markdown",
      "source": [
        "# Load Data + read"
      ],
      "metadata": {
        "id": "cQ33_1boyAbt"
      }
    },
    {
      "cell_type": "code",
      "execution_count": 5,
      "metadata": {
        "id": "kXYF0vDeHzce"
      },
      "outputs": [],
      "source": [
        "# Read the dataset\n",
        "dataframe= pd.read_csv(\"Employee.csv\")"
      ]
    },
    {
      "cell_type": "code",
      "source": [
        "# Lets check the shape of the data\n",
        "dataframe.shape"
      ],
      "metadata": {
        "colab": {
          "base_uri": "https://localhost:8080/"
        },
        "id": "kCDLNlKX0-2Q",
        "outputId": "8bdda551-024b-4762-c888-f0d49aefcdfc"
      },
      "execution_count": 6,
      "outputs": [
        {
          "output_type": "execute_result",
          "data": {
            "text/plain": [
              "(4653, 9)"
            ]
          },
          "metadata": {},
          "execution_count": 6
        }
      ]
    },
    {
      "cell_type": "code",
      "source": [
        "# Lets check the datatype of each columns\n",
        "dataframe.info()"
      ],
      "metadata": {
        "colab": {
          "base_uri": "https://localhost:8080/"
        },
        "id": "6kaqLzt81BP5",
        "outputId": "253e648a-2571-43ec-f17d-653279bb1350"
      },
      "execution_count": 8,
      "outputs": [
        {
          "output_type": "stream",
          "name": "stdout",
          "text": [
            "<class 'pandas.core.frame.DataFrame'>\n",
            "RangeIndex: 4653 entries, 0 to 4652\n",
            "Data columns (total 9 columns):\n",
            " #   Column                     Non-Null Count  Dtype \n",
            "---  ------                     --------------  ----- \n",
            " 0   Education                  4653 non-null   object\n",
            " 1   JoiningYear                4653 non-null   int64 \n",
            " 2   City                       4653 non-null   object\n",
            " 3   PaymentTier                4653 non-null   int64 \n",
            " 4   Age                        4653 non-null   int64 \n",
            " 5   Gender                     4653 non-null   object\n",
            " 6   EverBenched                4653 non-null   object\n",
            " 7   ExperienceInCurrentDomain  4653 non-null   int64 \n",
            " 8   LeaveOrNot                 4653 non-null   int64 \n",
            "dtypes: int64(5), object(4)\n",
            "memory usage: 327.3+ KB\n"
          ]
        }
      ]
    },
    {
      "cell_type": "code",
      "source": [
        "# Lets describe the dataset\n",
        "dataframe.describe()"
      ],
      "metadata": {
        "colab": {
          "base_uri": "https://localhost:8080/",
          "height": 300
        },
        "id": "V7j1Qqyb1Go4",
        "outputId": "034cc6f2-daf4-456c-c521-8544a317a1f9"
      },
      "execution_count": 9,
      "outputs": [
        {
          "output_type": "execute_result",
          "data": {
            "text/plain": [
              "       JoiningYear  PaymentTier          Age  ExperienceInCurrentDomain  \\\n",
              "count  4653.000000  4653.000000  4653.000000                4653.000000   \n",
              "mean   2015.062970     2.698259    29.393295                   2.905652   \n",
              "std       1.863377     0.561435     4.826087                   1.558240   \n",
              "min    2012.000000     1.000000    22.000000                   0.000000   \n",
              "25%    2013.000000     3.000000    26.000000                   2.000000   \n",
              "50%    2015.000000     3.000000    28.000000                   3.000000   \n",
              "75%    2017.000000     3.000000    32.000000                   4.000000   \n",
              "max    2018.000000     3.000000    41.000000                   7.000000   \n",
              "\n",
              "        LeaveOrNot  \n",
              "count  4653.000000  \n",
              "mean      0.343864  \n",
              "std       0.475047  \n",
              "min       0.000000  \n",
              "25%       0.000000  \n",
              "50%       0.000000  \n",
              "75%       1.000000  \n",
              "max       1.000000  "
            ],
            "text/html": [
              "\n",
              "  <div id=\"df-dbad1b0a-fc38-4ede-b98a-684d61bc47ca\" class=\"colab-df-container\">\n",
              "    <div>\n",
              "<style scoped>\n",
              "    .dataframe tbody tr th:only-of-type {\n",
              "        vertical-align: middle;\n",
              "    }\n",
              "\n",
              "    .dataframe tbody tr th {\n",
              "        vertical-align: top;\n",
              "    }\n",
              "\n",
              "    .dataframe thead th {\n",
              "        text-align: right;\n",
              "    }\n",
              "</style>\n",
              "<table border=\"1\" class=\"dataframe\">\n",
              "  <thead>\n",
              "    <tr style=\"text-align: right;\">\n",
              "      <th></th>\n",
              "      <th>JoiningYear</th>\n",
              "      <th>PaymentTier</th>\n",
              "      <th>Age</th>\n",
              "      <th>ExperienceInCurrentDomain</th>\n",
              "      <th>LeaveOrNot</th>\n",
              "    </tr>\n",
              "  </thead>\n",
              "  <tbody>\n",
              "    <tr>\n",
              "      <th>count</th>\n",
              "      <td>4653.000000</td>\n",
              "      <td>4653.000000</td>\n",
              "      <td>4653.000000</td>\n",
              "      <td>4653.000000</td>\n",
              "      <td>4653.000000</td>\n",
              "    </tr>\n",
              "    <tr>\n",
              "      <th>mean</th>\n",
              "      <td>2015.062970</td>\n",
              "      <td>2.698259</td>\n",
              "      <td>29.393295</td>\n",
              "      <td>2.905652</td>\n",
              "      <td>0.343864</td>\n",
              "    </tr>\n",
              "    <tr>\n",
              "      <th>std</th>\n",
              "      <td>1.863377</td>\n",
              "      <td>0.561435</td>\n",
              "      <td>4.826087</td>\n",
              "      <td>1.558240</td>\n",
              "      <td>0.475047</td>\n",
              "    </tr>\n",
              "    <tr>\n",
              "      <th>min</th>\n",
              "      <td>2012.000000</td>\n",
              "      <td>1.000000</td>\n",
              "      <td>22.000000</td>\n",
              "      <td>0.000000</td>\n",
              "      <td>0.000000</td>\n",
              "    </tr>\n",
              "    <tr>\n",
              "      <th>25%</th>\n",
              "      <td>2013.000000</td>\n",
              "      <td>3.000000</td>\n",
              "      <td>26.000000</td>\n",
              "      <td>2.000000</td>\n",
              "      <td>0.000000</td>\n",
              "    </tr>\n",
              "    <tr>\n",
              "      <th>50%</th>\n",
              "      <td>2015.000000</td>\n",
              "      <td>3.000000</td>\n",
              "      <td>28.000000</td>\n",
              "      <td>3.000000</td>\n",
              "      <td>0.000000</td>\n",
              "    </tr>\n",
              "    <tr>\n",
              "      <th>75%</th>\n",
              "      <td>2017.000000</td>\n",
              "      <td>3.000000</td>\n",
              "      <td>32.000000</td>\n",
              "      <td>4.000000</td>\n",
              "      <td>1.000000</td>\n",
              "    </tr>\n",
              "    <tr>\n",
              "      <th>max</th>\n",
              "      <td>2018.000000</td>\n",
              "      <td>3.000000</td>\n",
              "      <td>41.000000</td>\n",
              "      <td>7.000000</td>\n",
              "      <td>1.000000</td>\n",
              "    </tr>\n",
              "  </tbody>\n",
              "</table>\n",
              "</div>\n",
              "    <div class=\"colab-df-buttons\">\n",
              "\n",
              "  <div class=\"colab-df-container\">\n",
              "    <button class=\"colab-df-convert\" onclick=\"convertToInteractive('df-dbad1b0a-fc38-4ede-b98a-684d61bc47ca')\"\n",
              "            title=\"Convert this dataframe to an interactive table.\"\n",
              "            style=\"display:none;\">\n",
              "\n",
              "  <svg xmlns=\"http://www.w3.org/2000/svg\" height=\"24px\" viewBox=\"0 -960 960 960\">\n",
              "    <path d=\"M120-120v-720h720v720H120Zm60-500h600v-160H180v160Zm220 220h160v-160H400v160Zm0 220h160v-160H400v160ZM180-400h160v-160H180v160Zm440 0h160v-160H620v160ZM180-180h160v-160H180v160Zm440 0h160v-160H620v160Z\"/>\n",
              "  </svg>\n",
              "    </button>\n",
              "\n",
              "  <style>\n",
              "    .colab-df-container {\n",
              "      display:flex;\n",
              "      gap: 12px;\n",
              "    }\n",
              "\n",
              "    .colab-df-convert {\n",
              "      background-color: #E8F0FE;\n",
              "      border: none;\n",
              "      border-radius: 50%;\n",
              "      cursor: pointer;\n",
              "      display: none;\n",
              "      fill: #1967D2;\n",
              "      height: 32px;\n",
              "      padding: 0 0 0 0;\n",
              "      width: 32px;\n",
              "    }\n",
              "\n",
              "    .colab-df-convert:hover {\n",
              "      background-color: #E2EBFA;\n",
              "      box-shadow: 0px 1px 2px rgba(60, 64, 67, 0.3), 0px 1px 3px 1px rgba(60, 64, 67, 0.15);\n",
              "      fill: #174EA6;\n",
              "    }\n",
              "\n",
              "    .colab-df-buttons div {\n",
              "      margin-bottom: 4px;\n",
              "    }\n",
              "\n",
              "    [theme=dark] .colab-df-convert {\n",
              "      background-color: #3B4455;\n",
              "      fill: #D2E3FC;\n",
              "    }\n",
              "\n",
              "    [theme=dark] .colab-df-convert:hover {\n",
              "      background-color: #434B5C;\n",
              "      box-shadow: 0px 1px 3px 1px rgba(0, 0, 0, 0.15);\n",
              "      filter: drop-shadow(0px 1px 2px rgba(0, 0, 0, 0.3));\n",
              "      fill: #FFFFFF;\n",
              "    }\n",
              "  </style>\n",
              "\n",
              "    <script>\n",
              "      const buttonEl =\n",
              "        document.querySelector('#df-dbad1b0a-fc38-4ede-b98a-684d61bc47ca button.colab-df-convert');\n",
              "      buttonEl.style.display =\n",
              "        google.colab.kernel.accessAllowed ? 'block' : 'none';\n",
              "\n",
              "      async function convertToInteractive(key) {\n",
              "        const element = document.querySelector('#df-dbad1b0a-fc38-4ede-b98a-684d61bc47ca');\n",
              "        const dataTable =\n",
              "          await google.colab.kernel.invokeFunction('convertToInteractive',\n",
              "                                                    [key], {});\n",
              "        if (!dataTable) return;\n",
              "\n",
              "        const docLinkHtml = 'Like what you see? Visit the ' +\n",
              "          '<a target=\"_blank\" href=https://colab.research.google.com/notebooks/data_table.ipynb>data table notebook</a>'\n",
              "          + ' to learn more about interactive tables.';\n",
              "        element.innerHTML = '';\n",
              "        dataTable['output_type'] = 'display_data';\n",
              "        await google.colab.output.renderOutput(dataTable, element);\n",
              "        const docLink = document.createElement('div');\n",
              "        docLink.innerHTML = docLinkHtml;\n",
              "        element.appendChild(docLink);\n",
              "      }\n",
              "    </script>\n",
              "  </div>\n",
              "\n",
              "\n",
              "<div id=\"df-ba709d1a-032a-4489-90af-5e5d7f0e23c0\">\n",
              "  <button class=\"colab-df-quickchart\" onclick=\"quickchart('df-ba709d1a-032a-4489-90af-5e5d7f0e23c0')\"\n",
              "            title=\"Suggest charts.\"\n",
              "            style=\"display:none;\">\n",
              "\n",
              "<svg xmlns=\"http://www.w3.org/2000/svg\" height=\"24px\"viewBox=\"0 0 24 24\"\n",
              "     width=\"24px\">\n",
              "    <g>\n",
              "        <path d=\"M19 3H5c-1.1 0-2 .9-2 2v14c0 1.1.9 2 2 2h14c1.1 0 2-.9 2-2V5c0-1.1-.9-2-2-2zM9 17H7v-7h2v7zm4 0h-2V7h2v10zm4 0h-2v-4h2v4z\"/>\n",
              "    </g>\n",
              "</svg>\n",
              "  </button>\n",
              "\n",
              "<style>\n",
              "  .colab-df-quickchart {\n",
              "      --bg-color: #E8F0FE;\n",
              "      --fill-color: #1967D2;\n",
              "      --hover-bg-color: #E2EBFA;\n",
              "      --hover-fill-color: #174EA6;\n",
              "      --disabled-fill-color: #AAA;\n",
              "      --disabled-bg-color: #DDD;\n",
              "  }\n",
              "\n",
              "  [theme=dark] .colab-df-quickchart {\n",
              "      --bg-color: #3B4455;\n",
              "      --fill-color: #D2E3FC;\n",
              "      --hover-bg-color: #434B5C;\n",
              "      --hover-fill-color: #FFFFFF;\n",
              "      --disabled-bg-color: #3B4455;\n",
              "      --disabled-fill-color: #666;\n",
              "  }\n",
              "\n",
              "  .colab-df-quickchart {\n",
              "    background-color: var(--bg-color);\n",
              "    border: none;\n",
              "    border-radius: 50%;\n",
              "    cursor: pointer;\n",
              "    display: none;\n",
              "    fill: var(--fill-color);\n",
              "    height: 32px;\n",
              "    padding: 0;\n",
              "    width: 32px;\n",
              "  }\n",
              "\n",
              "  .colab-df-quickchart:hover {\n",
              "    background-color: var(--hover-bg-color);\n",
              "    box-shadow: 0 1px 2px rgba(60, 64, 67, 0.3), 0 1px 3px 1px rgba(60, 64, 67, 0.15);\n",
              "    fill: var(--button-hover-fill-color);\n",
              "  }\n",
              "\n",
              "  .colab-df-quickchart-complete:disabled,\n",
              "  .colab-df-quickchart-complete:disabled:hover {\n",
              "    background-color: var(--disabled-bg-color);\n",
              "    fill: var(--disabled-fill-color);\n",
              "    box-shadow: none;\n",
              "  }\n",
              "\n",
              "  .colab-df-spinner {\n",
              "    border: 2px solid var(--fill-color);\n",
              "    border-color: transparent;\n",
              "    border-bottom-color: var(--fill-color);\n",
              "    animation:\n",
              "      spin 1s steps(1) infinite;\n",
              "  }\n",
              "\n",
              "  @keyframes spin {\n",
              "    0% {\n",
              "      border-color: transparent;\n",
              "      border-bottom-color: var(--fill-color);\n",
              "      border-left-color: var(--fill-color);\n",
              "    }\n",
              "    20% {\n",
              "      border-color: transparent;\n",
              "      border-left-color: var(--fill-color);\n",
              "      border-top-color: var(--fill-color);\n",
              "    }\n",
              "    30% {\n",
              "      border-color: transparent;\n",
              "      border-left-color: var(--fill-color);\n",
              "      border-top-color: var(--fill-color);\n",
              "      border-right-color: var(--fill-color);\n",
              "    }\n",
              "    40% {\n",
              "      border-color: transparent;\n",
              "      border-right-color: var(--fill-color);\n",
              "      border-top-color: var(--fill-color);\n",
              "    }\n",
              "    60% {\n",
              "      border-color: transparent;\n",
              "      border-right-color: var(--fill-color);\n",
              "    }\n",
              "    80% {\n",
              "      border-color: transparent;\n",
              "      border-right-color: var(--fill-color);\n",
              "      border-bottom-color: var(--fill-color);\n",
              "    }\n",
              "    90% {\n",
              "      border-color: transparent;\n",
              "      border-bottom-color: var(--fill-color);\n",
              "    }\n",
              "  }\n",
              "</style>\n",
              "\n",
              "  <script>\n",
              "    async function quickchart(key) {\n",
              "      const quickchartButtonEl =\n",
              "        document.querySelector('#' + key + ' button');\n",
              "      quickchartButtonEl.disabled = true;  // To prevent multiple clicks.\n",
              "      quickchartButtonEl.classList.add('colab-df-spinner');\n",
              "      try {\n",
              "        const charts = await google.colab.kernel.invokeFunction(\n",
              "            'suggestCharts', [key], {});\n",
              "      } catch (error) {\n",
              "        console.error('Error during call to suggestCharts:', error);\n",
              "      }\n",
              "      quickchartButtonEl.classList.remove('colab-df-spinner');\n",
              "      quickchartButtonEl.classList.add('colab-df-quickchart-complete');\n",
              "    }\n",
              "    (() => {\n",
              "      let quickchartButtonEl =\n",
              "        document.querySelector('#df-ba709d1a-032a-4489-90af-5e5d7f0e23c0 button');\n",
              "      quickchartButtonEl.style.display =\n",
              "        google.colab.kernel.accessAllowed ? 'block' : 'none';\n",
              "    })();\n",
              "  </script>\n",
              "</div>\n",
              "    </div>\n",
              "  </div>\n"
            ]
          },
          "metadata": {},
          "execution_count": 9
        }
      ]
    },
    {
      "cell_type": "code",
      "source": [
        "# To check Is there any null values in the dataset\n",
        "dataframe.isna().sum()"
      ],
      "metadata": {
        "colab": {
          "base_uri": "https://localhost:8080/"
        },
        "id": "gQqEn8yb1Krs",
        "outputId": "95a8e4a7-1aed-4894-cd94-29aea9326e70"
      },
      "execution_count": 10,
      "outputs": [
        {
          "output_type": "execute_result",
          "data": {
            "text/plain": [
              "Education                    0\n",
              "JoiningYear                  0\n",
              "City                         0\n",
              "PaymentTier                  0\n",
              "Age                          0\n",
              "Gender                       0\n",
              "EverBenched                  0\n",
              "ExperienceInCurrentDomain    0\n",
              "LeaveOrNot                   0\n",
              "dtype: int64"
            ]
          },
          "metadata": {},
          "execution_count": 10
        }
      ]
    },
    {
      "cell_type": "code",
      "source": [
        "# To check Is there any duplicate value in the dataset\n",
        "dataframe.duplicated().sum()"
      ],
      "metadata": {
        "colab": {
          "base_uri": "https://localhost:8080/"
        },
        "id": "gW9Rp41U1NAL",
        "outputId": "7eec89c2-b112-45ae-c3e6-90587cd326e0"
      },
      "execution_count": 11,
      "outputs": [
        {
          "output_type": "execute_result",
          "data": {
            "text/plain": [
              "1889"
            ]
          },
          "metadata": {},
          "execution_count": 11
        }
      ]
    },
    {
      "cell_type": "code",
      "source": [
        "# Remove the duplicate values in the dataset\n",
        "dataframe.drop_duplicates(inplace=True)"
      ],
      "metadata": {
        "id": "rHWWUgDR1OsX"
      },
      "execution_count": 13,
      "outputs": []
    },
    {
      "cell_type": "code",
      "source": [
        "# Shape of dataframe after removing the duplicate values\n",
        "dataframe.shape"
      ],
      "metadata": {
        "colab": {
          "base_uri": "https://localhost:8080/"
        },
        "id": "yLa0E39T1Qz2",
        "outputId": "27bedcb9-6327-4ef7-da4d-4f389ac15745"
      },
      "execution_count": 14,
      "outputs": [
        {
          "output_type": "execute_result",
          "data": {
            "text/plain": [
              "(2764, 9)"
            ]
          },
          "metadata": {},
          "execution_count": 14
        }
      ]
    },
    {
      "cell_type": "markdown",
      "source": [
        "## categorical columns"
      ],
      "metadata": {
        "id": "HgbhuFoz1Sa4"
      }
    },
    {
      "cell_type": "code",
      "source": [
        "dataframe[\"EverBenched\"].unique()"
      ],
      "metadata": {
        "colab": {
          "base_uri": "https://localhost:8080/"
        },
        "id": "ImQWY-xV1WHK",
        "outputId": "bb635316-c15f-4fc6-c408-73788aff75e3"
      },
      "execution_count": 15,
      "outputs": [
        {
          "output_type": "execute_result",
          "data": {
            "text/plain": [
              "array(['No', 'Yes'], dtype=object)"
            ]
          },
          "metadata": {},
          "execution_count": 15
        }
      ]
    },
    {
      "cell_type": "code",
      "source": [
        "dataframe[\"City\"].unique()"
      ],
      "metadata": {
        "colab": {
          "base_uri": "https://localhost:8080/"
        },
        "id": "CksiFkzW1bxl",
        "outputId": "b96384fa-f35a-47fb-b2dd-09f3945b7103"
      },
      "execution_count": 16,
      "outputs": [
        {
          "output_type": "execute_result",
          "data": {
            "text/plain": [
              "array(['Bangalore', 'Pune', 'New Delhi'], dtype=object)"
            ]
          },
          "metadata": {},
          "execution_count": 16
        }
      ]
    },
    {
      "cell_type": "markdown",
      "source": [
        "##Encoding"
      ],
      "metadata": {
        "id": "ONoKfTo537bm"
      }
    },
    {
      "cell_type": "code",
      "source": [
        "le=LabelEncoder()\n",
        "dataframe[\"Education\"]= le.fit_transform(dataframe[\"Education\"])\n",
        "dataframe[\"City\"]=le.fit_transform(dataframe[\"City\"])\n",
        "dataframe[\"Gender\"]=le.fit_transform(dataframe[\"Gender\"])\n",
        "dataframe[\"EverBenched\"]=le.fit_transform(dataframe[\"EverBenched\"])"
      ],
      "metadata": {
        "id": "5BVpdtEH394t"
      },
      "execution_count": 32,
      "outputs": []
    },
    {
      "cell_type": "markdown",
      "source": [
        "## Refitting"
      ],
      "metadata": {
        "id": "KYbj77723mDL"
      }
    },
    {
      "cell_type": "code",
      "source": [
        "# Lets Split the dataset\n",
        "def train_test_split_data(dataframe, target, random_state, test_size):\n",
        "    x_train,y_train,x_test,y_test= train_test_split(dataframe.drop([target], axis=1),\n",
        "                                                    dataframe[target],\n",
        "                                                    random_state=random_state,\n",
        "                                                    test_size=0.3,\n",
        "                                                    stratify=dataframe[target])\n",
        "    return x_train, x_test, y_train,y_test"
      ],
      "metadata": {
        "id": "7lcaGXVs3kMA"
      },
      "execution_count": 33,
      "outputs": []
    },
    {
      "cell_type": "code",
      "source": [
        "x_train, y_train, x_test, y_test=  train_test_split_data(dataframe, target=\"LeaveOrNot\", random_state=42, test_size=0.3)"
      ],
      "metadata": {
        "id": "iM01khy33ujs"
      },
      "execution_count": 34,
      "outputs": []
    },
    {
      "cell_type": "code",
      "source": [
        "x_train.shape, y_train.shape, x_test.shape, y_test.shape"
      ],
      "metadata": {
        "colab": {
          "base_uri": "https://localhost:8080/"
        },
        "id": "oPlZzfXv3wI1",
        "outputId": "6ce54fb8-a328-46a7-ffe8-f4f6abeea4a6"
      },
      "execution_count": 35,
      "outputs": [
        {
          "output_type": "execute_result",
          "data": {
            "text/plain": [
              "((1934, 8), (1934,), (830, 8), (830,))"
            ]
          },
          "metadata": {},
          "execution_count": 35
        }
      ]
    },
    {
      "cell_type": "code",
      "source": [
        "# Lets balance the dataset using smote technique\n",
        "sm= SMOTE(sampling_strategy=\"minority\", random_state=42)\n",
        "x_train_smote, y_train_smote= sm.fit_resample(x_train, y_train)"
      ],
      "metadata": {
        "id": "V4vx9sLj4FHg"
      },
      "execution_count": 36,
      "outputs": []
    },
    {
      "cell_type": "code",
      "source": [
        "x_train_smote.shape, y_train_smote.shape"
      ],
      "metadata": {
        "colab": {
          "base_uri": "https://localhost:8080/"
        },
        "id": "PTDErG4q4Gol",
        "outputId": "b7644d5a-33a4-4084-9eb0-80855eac59cb"
      },
      "execution_count": 37,
      "outputs": [
        {
          "output_type": "execute_result",
          "data": {
            "text/plain": [
              "((2346, 8), (2346,))"
            ]
          },
          "metadata": {},
          "execution_count": 37
        }
      ]
    },
    {
      "cell_type": "markdown",
      "source": [
        "##3 Learning Model Types"
      ],
      "metadata": {
        "id": "lvyHyeIS3Rof"
      }
    },
    {
      "cell_type": "markdown",
      "source": [
        "### Random forest classifier"
      ],
      "metadata": {
        "id": "2imZBjNG3Z9h"
      }
    },
    {
      "cell_type": "code",
      "source": [
        "rf=RandomForestClassifier()\n",
        "\n",
        "hyper_params = {\"max_features\": [1,3,10],\n",
        "                \"min_samples_split\":[2,3,10],\n",
        "                \"min_samples_leaf\":[1,3,10],\n",
        "                \"n_estimators\":[100,300, 400, 500, 600],\n",
        "                \"criterion\":[\"gini\"]}\n",
        "\n",
        "model=GridSearchCV(rf, hyper_params, cv=5, scoring=\"f1_macro\", n_jobs=-1)\n",
        "model.fit(x_train_smote,y_train_smote)\n",
        "y_pred= model.predict(x_test)\n",
        "print(model.best_estimator_)\n",
        "\n",
        "print(\"----------------------\")\n",
        "\n",
        "accuracy_scores=[]\n",
        "f1_scores=[]\n",
        "precision_scores=[]\n",
        "recall_scores=[]\n",
        "\n",
        "\n",
        "accuracy_scores.append(accuracy_score(y_pred, y_test))\n",
        "f1_scores.append(f1_score(y_pred, y_test))\n",
        "precision_scores.append(precision_score(y_pred, y_test))\n",
        "recall_scores.append(recall_score(y_pred, y_test))\n",
        "\n",
        "\n",
        "\n",
        "# Print the Results\n",
        "print(f\"Accuracy:{accuracy_scores}\")\n",
        "print(f\"F1-Score:{f1_scores}\")\n",
        "print(f\"Precision:{precision_scores}\")\n",
        "print(f\"Recall:{recall_scores}\")\n",
        "\n",
        "print(\"-------------------------------\")\n",
        "print(\"Classifiaction Reoprt\")\n",
        "print(\"-------------------------------\")\n",
        "print(classification_report(y_test,y_pred,digits=3))\n",
        "print(\"Confusion_Matrix\")\n",
        "ConfusionMatrixDisplay.from_predictions(y_test,y_pred,cmap=\"Reds\")\n",
        "plt.show()"
      ],
      "metadata": {
        "colab": {
          "base_uri": "https://localhost:8080/",
          "height": 796
        },
        "id": "oC_6TJ3O4KrB",
        "outputId": "04a65d0c-1abb-40a3-f210-9ce7fe2cd5ec"
      },
      "execution_count": 38,
      "outputs": [
        {
          "output_type": "stream",
          "name": "stdout",
          "text": [
            "RandomForestClassifier(max_features=3, min_samples_leaf=3, min_samples_split=10,\n",
            "                       n_estimators=400)\n",
            "----------------------\n",
            "Accuracy:[0.7710843373493976]\n",
            "F1-Score:[0.6885245901639344]\n",
            "Precision:[0.6422018348623854]\n",
            "Recall:[0.7420494699646644]\n",
            "-------------------------------\n",
            "Classifiaction Reoprt\n",
            "-------------------------------\n",
            "              precision    recall  f1-score   support\n",
            "\n",
            "           0      0.786     0.855     0.819       503\n",
            "           1      0.742     0.642     0.689       327\n",
            "\n",
            "    accuracy                          0.771       830\n",
            "   macro avg      0.764     0.749     0.754       830\n",
            "weighted avg      0.769     0.771     0.768       830\n",
            "\n",
            "Confusion_Matrix\n"
          ]
        },
        {
          "output_type": "display_data",
          "data": {
            "text/plain": [
              "<Figure size 640x480 with 2 Axes>"
            ],
            "image/png": "[encoded data removed]"
          },
          "metadata": {}
        }
      ]
    },
    {
      "cell_type": "markdown",
      "source": [
        "##Gradient Boosting Classifier"
      ],
      "metadata": {
        "id": "qg7Yh3_0-ziD"
      }
    },
    {
      "cell_type": "code",
      "source": [
        "gbc_param_grid = {\n",
        "                      \"learning_rate\": [0.05, 0.1, 0.02],\n",
        "                      \"n_estimators\": [100,200,300,400,500],\n",
        "                      \"min_samples_split\": [2,3,10],\n",
        "                      \"min_samples_leaf\": [1,3,10]\n",
        "                      }\n",
        "\n",
        "gbc=GradientBoostingClassifier()\n",
        "gbc_model= GridSearchCV(gbc, gbc_param_grid, cv=5, scoring=\"f1_macro\", n_jobs=-1 )\n",
        "gbc_model.fit(x_train_smote,y_train_smote)\n",
        "y_pred= gbc_model.predict(x_test)\n",
        "print(gbc_model.best_estimator_)\n",
        "\n",
        "accuracy_scores=[]\n",
        "f1_scores=[]\n",
        "precision_scores=[]\n",
        "recall_scores=[]\n",
        "\n",
        "\n",
        "accuracy_scores.append(accuracy_score(y_pred, y_test))\n",
        "f1_scores.append(f1_score(y_pred, y_test))\n",
        "precision_scores.append(precision_score(y_pred, y_test))\n",
        "recall_scores.append(recall_score(y_pred, y_test))\n",
        "\n",
        "\n",
        "\n",
        "# Print the Results\n",
        "print(f\"Accuracy:{accuracy_scores}\")\n",
        "print(f\"F1-Score:{f1_scores}\")\n",
        "print(f\"Precision:{precision_scores}\")\n",
        "print(f\"Recall:{recall_scores}\")\n",
        "\n",
        "print(\"-------------------------------\")\n",
        "print(\"Classification Reoprt\")\n",
        "print(\"-------------------------------\")\n",
        "print(classification_report(y_test,y_pred,digits=3))\n",
        "print(\"Confusion_Matrix\")\n",
        "ConfusionMatrixDisplay.from_predictions(y_test,y_pred,cmap=\"Greens\")\n",
        "plt.show()"
      ],
      "metadata": {
        "colab": {
          "base_uri": "https://localhost:8080/",
          "height": 761
        },
        "id": "ze26kWnw9AiE",
        "outputId": "8bb07d85-2663-47a0-820e-7777675c924e"
      },
      "execution_count": 39,
      "outputs": [
        {
          "output_type": "stream",
          "name": "stdout",
          "text": [
            "GradientBoostingClassifier(min_samples_leaf=3)\n",
            "Accuracy:[0.7867469879518072]\n",
            "F1-Score:[0.7203791469194314]\n",
            "Precision:[0.6972477064220184]\n",
            "Recall:[0.7450980392156863]\n",
            "-------------------------------\n",
            "Classification Reoprt\n",
            "-------------------------------\n",
            "              precision    recall  f1-score   support\n",
            "\n",
            "           0      0.811     0.845     0.828       503\n",
            "           1      0.745     0.697     0.720       327\n",
            "\n",
            "    accuracy                          0.787       830\n",
            "   macro avg      0.778     0.771     0.774       830\n",
            "weighted avg      0.785     0.787     0.785       830\n",
            "\n",
            "Confusion_Matrix\n"
          ]
        },
        {
          "output_type": "display_data",
          "data": {
            "text/plain": [
              "<Figure size 640x480 with 2 Axes>"
            ],
            "image/png": "[encoded data removed]"
          },
          "metadata": {}
        }
      ]
    },
    {
      "cell_type": "markdown",
      "source": [
        "## Voting Classifier"
      ],
      "metadata": {
        "id": "NDQpMdRn-_IB"
      }
    },
    {
      "cell_type": "code",
      "source": [
        "gbc=GradientBoostingClassifier()\n",
        "gbc1=GradientBoostingClassifier(learning_rate=0.05, min_samples_split=3,n_estimators=500)\n",
        "rf=RandomForestClassifier(max_features=3, min_samples_leaf=3, min_samples_split=3)\n",
        "\n",
        "\n",
        "voting_model= VotingClassifier(estimators=[('gradient_bosting1', gbc),('gradient_bosting2', gbc), ('gradient_bosting3', gbc), ('gradient_bosting4',gbc),('gradient_bosting5',gbc)], voting='hard', n_jobs=-1)\n",
        "voting_model.fit(x_train_smote, y_train_smote)\n",
        "y_pred=voting_model.predict(x_test)\n",
        "\n",
        "\n",
        "accuracy_scores=[]\n",
        "f1_scores=[]\n",
        "precision_scores=[]\n",
        "recall_scores=[]\n",
        "\n",
        "\n",
        "accuracy_scores.append(accuracy_score(y_pred, y_test))\n",
        "f1_scores.append(f1_score(y_pred, y_test))\n",
        "precision_scores.append(precision_score(y_pred, y_test))\n",
        "recall_scores.append(recall_score(y_pred, y_test))\n",
        "\n",
        "\n",
        "\n",
        "# Print the Results\n",
        "print(f\"Accuracy:{accuracy_scores}\")\n",
        "print(f\"F1-Score:{f1_scores}\")\n",
        "print(f\"Precision:{precision_scores}\")\n",
        "print(f\"Recall:{recall_scores}\")\n",
        "\n",
        "print(\"-------------------------------\")\n",
        "print(\"Classifiaction Reoprt\")\n",
        "print(\"-------------------------------\")\n",
        "print(classification_report(y_test,y_pred,digits=3))\n",
        "print(\"Confusion_Matrix\")\n",
        "ConfusionMatrixDisplay.from_predictions(y_test,y_pred,cmap=\"Purples\")\n",
        "plt.show()"
      ],
      "metadata": {
        "colab": {
          "base_uri": "https://localhost:8080/",
          "height": 744
        },
        "id": "EhBxDbHQ--ZY",
        "outputId": "ffe6dbaf-4290-4fd7-e4a6-511f416d8c48"
      },
      "execution_count": 40,
      "outputs": [
        {
          "output_type": "stream",
          "name": "stdout",
          "text": [
            "Accuracy:[0.7891566265060241]\n",
            "F1-Score:[0.7217806041335454]\n",
            "Precision:[0.6941896024464832]\n",
            "Recall:[0.7516556291390728]\n",
            "-------------------------------\n",
            "Classifiaction Reoprt\n",
            "-------------------------------\n",
            "              precision    recall  f1-score   support\n",
            "\n",
            "           0      0.811     0.851     0.830       503\n",
            "           1      0.752     0.694     0.722       327\n",
            "\n",
            "    accuracy                          0.789       830\n",
            "   macro avg      0.781     0.773     0.776       830\n",
            "weighted avg      0.787     0.789     0.788       830\n",
            "\n",
            "Confusion_Matrix\n"
          ]
        },
        {
          "output_type": "display_data",
          "data": {
            "text/plain": [
              "<Figure size 640x480 with 2 Axes>"
            ],
            "image/png": "[encoded data removed]"
          },
          "metadata": {}
        }
      ]
    },
    {
      "cell_type": "markdown",
      "source": [
        "## Evaluation\n",
        "\n",
        "The voting classifier worked best, even though it only had a 78% accuracy rate."
      ],
      "metadata": {
        "id": "BJYHf5BU_QS1"
      }
    }
  ]
}